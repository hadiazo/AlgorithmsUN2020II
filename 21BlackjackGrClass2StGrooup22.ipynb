{
  "nbformat": 4,
  "nbformat_minor": 0,
  "metadata": {
    "colab": {
      "name": "LAB4_ 21_Blackjack",
      "provenance": [],
      "collapsed_sections": []
    },
    "kernelspec": {
      "name": "python3",
      "display_name": "Python 3"
    }
  },
  "cells": [
    {
      "cell_type": "markdown",
      "metadata": {
        "id": "NXo6fNp_NMhm"
      },
      "source": [
        "# <center> LAB 4 - Monte Carlo – 21 Blackjack </center>\n",
        "### <center>  GRUPO 22 </center>\n",
        "<center>Harold Díaz <br> Sergio Espinosa <br> Diego Sánchez</center>\n"
      ]
    },
    {
      "cell_type": "markdown",
      "metadata": {
        "id": "q3CN-GZRAncD"
      },
      "source": [
        "## Ejercicio 1\n",
        "Calculate the probability of getting a 21 drawing cards sequentially from shuffled Spanish 48-deck with card values [1,2,3,4,5,6,7,10,11,12,1,2,3,4,5,6,7,8,9,10,11,12,1,2,3,4,5,6,7,8,9,10,11,12,1,2,3,4,5,6,7,8,9,10,11,12] and from a shuffled Poker 52-card with card values [1,2,3,4,5,6,7,8,9,10,11,12,13,1,2,3,4,5,6,7,8,9,10,11,12,13,1,2,3,4,5,6,7,8,9,10,11,12,13,1,2,3,4,5,6,7,8,9,10,11,12,13]. Plot the experimental distribution of the numbers of card requires to complete 21 in 10000 trials.\n",
        "- A n-card deck is shuffled if t all possible n! decks have equal probability 1/n! or equivalently if when choosing any card of the shuffled deck all n cards have the same probability 1/n of appearing.\n",
        "\n",
        "- Hint: Instead of shuffling the card deck an drawing sequentially it is equivalent to have a sorted list representing the cards and draw cards randomly located from that list with random.choice(list).\n"
      ]
    },
    {
      "cell_type": "code",
      "metadata": {
        "id": "D4CZKvT0-Z8o",
        "outputId": "75f0ef10-997b-4fb6-b236-6c34940de9af",
        "colab": {
          "base_uri": "https://localhost:8080/",
          "height": 299
        }
      },
      "source": [
        "#Spanish 48-card deck\n",
        "\n",
        "import matplotlib.pyplot as plt\n",
        "import random\n",
        "\n",
        "n = 10000000           #Número de simulaciones\n",
        "count = 0            #Contar cuántas veces se alcanza la 21\n",
        "nc21 = []            #Lista del número de cartas necesarias para alcanzar la 21\n",
        "\n",
        "for i in range(n):\n",
        "  cards  = [1,2,3,4,5,6,7,8,9,10,11,12,1,2,3,4,5,6,7,8,9,10,11,12,1,2,3,4,5,6,7,8,9,10,11,12,1,2,3,4,5,6,7,8,9,10,11,12] #Baraja de cartas que se va a usar\n",
        "  my_list = [] #Se inicializa la mano del jugador\n",
        "  nc = 0       #inicializar el numero de cartas que ha tomado el jugador\n",
        "  while sum(my_list) < 21: #Mientras la suma de las cartas que tiene el jugador sea menor a 21 \n",
        "    next_card = random.choice(cards) #Elegir una carta de la baraja al azar\n",
        "    cards.remove(next_card) #Eliminar la carta elegida de la baraja\n",
        "    my_list.append(next_card) #Añadir la carta elegida a la mano del jugador\n",
        "    nc+=1 #Incrementar en uno el numero de cartas que ha tomado el jugador\n",
        "\n",
        "  if sum(my_list) == 21: #si la mano del jugador suma 21\n",
        "    count += 1 #Incrementar en uno el número de victorias\n",
        "    nc21.append(nc) #Añadir el numero de cartas tomadas a la lista\n",
        "\n",
        "print(\"Probability of getting a 21: \",count/n) #Calculo de la probabilidad de alcanzar la 21\n",
        "print(\"Average of number of cards to get 21: \", sum(nc21)/len(nc21)) #Promedio del numero de cartas requeridas para alcanzar 21.\n",
        "\n",
        "plt.hist(nc21,density=True,bins=max(nc21)-min(nc21))\n",
        "plt.show()"
      ],
      "execution_count": null,
      "outputs": [
        {
          "output_type": "stream",
          "text": [
            "Probability of getting a 21:  0.1575772\n",
            "Average of number of cards to get 21:  3.4163089584026114\n"
          ],
          "name": "stdout"
        },
        {
          "output_type": "display_data",
          "data": {
            "image/png": "[encoded data removed]",
            "text/plain": [
              "<Figure size 432x288 with 1 Axes>"
            ]
          },
          "metadata": {
            "tags": [],
            "needs_background": "light"
          }
        }
      ]
    },
    {
      "cell_type": "code",
      "metadata": {
        "id": "BJsaAHAMRu7q",
        "outputId": "e062e344-ecb0-44c7-d40c-d89d1829fbe2",
        "colab": {
          "base_uri": "https://localhost:8080/",
          "height": 299
        }
      },
      "source": [
        "#Poker 52-card deck\n",
        "\n",
        "import matplotlib.pyplot as plt\n",
        "import random\n",
        "\n",
        "n = 10000000           #Número de simulaciones\n",
        "count = 0            #Contar cuántas veces se alcanza la 21\n",
        "nc21 = []            #Lista del número de cartas necesarias para alcanzar la 21\n",
        "\n",
        "for i in range(n):\n",
        "  cards = [1,2,3,4,5,6,7,8,9,10,11,12,13,1,2,3,4,5,6,7,8,9,10,11,12,13,1,2,3,4,5,6,7,8,9,10,11,12,13,1,2,3,4,5,6,7,8,9,10,11,12,13]      \n",
        "  my_list = []\n",
        "  nc = 0\n",
        "  while sum(my_list) < 21:\n",
        "    next_card = random.choice(cards)\n",
        "    cards.remove(next_card)\n",
        "    my_list.append(next_card)\n",
        "    nc+=1\n",
        "\n",
        "  if sum(my_list) == 21:\n",
        "    count += 1\n",
        "    nc21.append(nc)\n",
        "\n",
        "print(\"Probability of getting a 21: \",count/n)\n",
        "print(\"Average of number of cards to get 21: \", sum(nc21)/len(nc21))\n",
        "\n",
        "plt.hist(nc21,density=True,bins=max(nc21)-min(nc21))\n",
        "plt.show()"
      ],
      "execution_count": null,
      "outputs": [
        {
          "output_type": "stream",
          "text": [
            "Probability of getting a 21:  0.1447858\n",
            "Average of number of cards to get 21:  3.2149264637830504\n"
          ],
          "name": "stdout"
        },
        {
          "output_type": "display_data",
          "data": {
            "image/png": "[encoded data removed]",
            "text/plain": [
              "<Figure size 432x288 with 1 Axes>"
            ]
          },
          "metadata": {
            "tags": [],
            "needs_background": "light"
          }
        }
      ]
    },
    {
      "cell_type": "markdown",
      "metadata": {
        "id": "pfCX1s0vlHqd"
      },
      "source": [
        "## Ejercicio 2\n",
        "Calculate the probability of getting a 21 drawing cards sequentially from shuffled Spanish 48-deck with card values are \n",
        "[1,2,3,4,5,6,7,8,9,10,10,10,1,2,3,4,5,6,7,8,9,,10,10,10,1,2,3,4,5,6,7,8,9,10,10,10,1,2,3,4,5,6,7,8,9,10,10,10] and [1,2,3,4,5,6,7,8,9,10,10,10,10,1,2,3,4,5,6,7,8,9,10,10,10,10,1,2,3,4,5,6,7,8,9,10,10,10,10,1,2,3,4,5,6,7,8,9,10,10,10,10] for the Spanish and Poker card decks. Plot the experimental distribution of the numbers of card requires to complete 21 in 10000 simulations."
      ]
    },
    {
      "cell_type": "code",
      "metadata": {
        "id": "yjC40qMZlD_5",
        "outputId": "378b185a-7a2e-46e0-91c4-bfa207c4a204",
        "colab": {
          "base_uri": "https://localhost:8080/",
          "height": 299
        }
      },
      "source": [
        "#Spanish 48-card deck replacing 11,12 by 10,10\n",
        "\n",
        "import matplotlib.pyplot as plt\n",
        "import random\n",
        "\n",
        "n = 100000           #Número de simulaciones\n",
        "count = 0            #Contar cuántas veces se alcanza la 21\n",
        "nc21 = []            #Lista del número de cartas necesarias para alcanzar la 21\n",
        "\n",
        "for i in range(n):\n",
        "  cards  = [1,2,3,4,5,6,7,8,9,10,10,10,1,2,3,4,5,6,7,8,9,10,10,10,1,2,3,4,5,6,7,8,9,10,10,10,1,2,3,4,5,6,7,8,9,10,10,10]                 \n",
        "  my_list = []\n",
        "  nc = 0\n",
        "  while sum(my_list) < 21:\n",
        "    next_card = random.choice(cards)\n",
        "    cards.remove(next_card)\n",
        "    my_list.append(next_card)\n",
        "    nc+=1\n",
        "\n",
        "  if sum(my_list) == 21:\n",
        "    count += 1\n",
        "    nc21.append(nc)\n",
        "\n",
        "print(\"Probability of getting a 21: \",count/n)\n",
        "print(\"Average of number of cards to get 21: \", sum(nc21)/len(nc21))\n",
        "\n",
        "plt.hist(nc21,density=True,bins=max(nc21)-min(nc21))\n",
        "plt.show()"
      ],
      "execution_count": null,
      "outputs": [
        {
          "output_type": "stream",
          "text": [
            "Probability of getting a 21:  0.14911\n",
            "Average of number of cards to get 21:  3.7002883777077327\n"
          ],
          "name": "stdout"
        },
        {
          "output_type": "display_data",
          "data": {
            "image/png": "[encoded data removed]",
            "text/plain": [
              "<Figure size 432x288 with 1 Axes>"
            ]
          },
          "metadata": {
            "tags": [],
            "needs_background": "light"
          }
        }
      ]
    },
    {
      "cell_type": "code",
      "metadata": {
        "id": "jDKJopxQSaU_",
        "outputId": "438c1a13-4a9e-4253-bbe0-cfd7e15f0467",
        "colab": {
          "base_uri": "https://localhost:8080/",
          "height": 299
        }
      },
      "source": [
        "#Poker 52-card deck replacing 11,12 by 10,10\n",
        "\n",
        "import matplotlib.pyplot as plt\n",
        "import random\n",
        "\n",
        "n = 100000           #Número de simulaciones\n",
        "count = 0            #Contar cuántas veces se alcanza la 21\n",
        "nc21 = []            #Lista del número de cartas necesarias para alcanzar la 21\n",
        "\n",
        "for i in range(n):       \n",
        "  cards  = [1,2,3,4,5,6,7,8,9,10,10,10,10,1,2,3,4,5,6,7,8,9,10,10,10,10,1,2,3,4,5,6,7,8,9,10,10,10,10,1,2,3,4,5,6,7,8,9,10,10,10,10]     \n",
        "  my_list = []\n",
        "  nc = 0\n",
        "  while sum(my_list) < 21:\n",
        "    next_card = random.choice(cards)\n",
        "    cards.remove(next_card)\n",
        "    my_list.append(next_card)\n",
        "    nc+=1\n",
        "\n",
        "  if sum(my_list) == 21:\n",
        "    count += 1\n",
        "    nc21.append(nc)\n",
        "\n",
        "print(\"Probability of getting a 21: \",count/n)\n",
        "print(\"Average of number of cards to get 21: \", sum(nc21)/len(nc21))\n",
        "\n",
        "plt.hist(nc21,density=True,bins=max(nc21)-min(nc21))\n",
        "plt.show()"
      ],
      "execution_count": null,
      "outputs": [
        {
          "output_type": "stream",
          "text": [
            "Probability of getting a 21:  0.14046\n",
            "Average of number of cards to get 21:  3.59169870425744\n"
          ],
          "name": "stdout"
        },
        {
          "output_type": "display_data",
          "data": {
            "image/png": "[encoded data removed]",
            "text/plain": [
              "<Figure size 432x288 with 1 Axes>"
            ]
          },
          "metadata": {
            "tags": [],
            "needs_background": "light"
          }
        }
      ]
    },
    {
      "cell_type": "markdown",
      "metadata": {
        "id": "EyXzrV-O7uNM"
      },
      "source": [
        "## Ejercicio 3\n",
        "Calculate the probability of getting a 21, with the Spanish and Poker card deck, assuming that you are in the middle of game and the remaining deck has n/2 card and you have the cards [7,7,5]. You pick arbitrary what card are in the remaining deck with the only restriction that there are be maximum two 7s and three 5s). Plot the experimental distribution of the numbers of card requires to complete 21 in 10000 simulations."
      ]
    },
    {
      "cell_type": "code",
      "metadata": {
        "id": "HSUdSHDp7t06",
        "outputId": "9a60a45e-5d72-45cd-ff01-3b4a63d1dd09",
        "colab": {
          "base_uri": "https://localhost:8080/",
          "height": 299
        }
      },
      "source": [
        "import random\n",
        "import matplotlib.pyplot as plt\n",
        "\n",
        "n = 10000\n",
        "count = 0\n",
        "nc21 = []\n",
        "\n",
        "cards  = [1,2,3,4,6,8,9,10,11,12,1,2,3,4,5,6,8,9,10,11,12,1,2,3,4,5,6,7,8,9,10,11,12,1,2,3,4,5,6,7,8,9,10,11,12]                  #Spanish 48-card deck\n",
        "#cards  = [1,2,3,4,6,8,9,10,10,10,1,2,3,4,5,6,8,9,10,10,10,1,2,3,4,5,6,7,8,9,10,10,10,1,2,3,4,5,6,7,8,9,10,10,10]                 #Spanish 48-card deck replacing 11,12 by 10,10\n",
        "#cards = [1,2,3,4,6,8,9,10,11,12,13,1,2,3,4,5,6,8,9,10,11,12,13,1,2,3,4,5,6,7,8,9,10,11,12,13,1,2,3,4,5,6,7,8,9,10,11,12,13]      #Poker 52-card deck\n",
        "#cards  = [1,2,3,4,6,8,9,10,10,10,10,1,2,3,4,5,6,8,9,10,10,10,10,1,2,3,4,5,6,7,8,9,10,10,10,10,1,2,3,4,5,6,7,8,9,10,10,10,10]     #Poker 52-card deck replacing 11,12 by 10,10\n",
        "\n",
        "new_cards = []\n",
        "for _ in range(len(cards)//2):\n",
        "  new_cards.append(random.choice(cards))\n",
        "\n",
        "for i in range(n):\n",
        "  my_list = [7,7,5]\n",
        "  nc = 0\n",
        "  half_deck = new_cards.copy()  \n",
        "  while sum(my_list) < 21:\n",
        "    next_card = random.choice(half_deck)\n",
        "    half_deck.remove(next_card)\n",
        "    my_list.append(next_card)\n",
        "    nc +=1\n",
        "\n",
        "  if sum(my_list) == 21:\n",
        "    count += 1\n",
        "    nc21.append(nc)\n",
        "  #print(my_list)\n",
        "  #print(count)\n",
        "\n",
        "print(\"Probability of getting 21: \",count/n)\n",
        "\n",
        "plt.hist(nc21,density=True,bins=[1,2,3])\n",
        "plt.xlabel(\"Número de cartas\")\n",
        "plt.show()\n"
      ],
      "execution_count": null,
      "outputs": [
        {
          "output_type": "stream",
          "text": [
            "Probability of getting 21:  0.096\n"
          ],
          "name": "stdout"
        },
        {
          "output_type": "display_data",
          "data": {
            "image/png": "[encoded data removed]",
            "text/plain": [
              "<Figure size 432x288 with 1 Axes>"
            ]
          },
          "metadata": {
            "tags": [],
            "needs_background": "light"
          }
        }
      ]
    },
    {
      "cell_type": "markdown",
      "metadata": {
        "id": "sys8dY-BA53s"
      },
      "source": [
        "## Ejercicio 4\n",
        "Find remaining decks for Spanish and Poker card decks, with the number of cards according to the list below, with highest (hot deck) and lowest (cold deck) probabilities of getting 21 assuming that you have cards [7,7,5]. Calculate the probabilities analytically and verify them with Montecarlo. Plot the experimental distribution of the numbers of card requires to complete 21 in 10000 simulations.\n",
        "* 10 remaining cards"
      ]
    },
    {
      "cell_type": "markdown",
      "metadata": {
        "id": "W2gHkxSDrtr8"
      },
      "source": [
        "### Cálculo de probabilidad analíticamente\n",
        "Un hot deck tiene cuatro 1's y cuatro 2's y dos cartas cualquieras mayores a 1 y a 2 entonces se tendría una probabilidad de $\\frac{4}{10}$ de sacar un 2 para completar una 21 o de $\\frac{4}{10}\\cdot\\frac{3}{9}$ para sacar dos 1's seguidos. Luego, se tiene una probabilidad total de $$\\frac{4}{10}+\\frac{4}{10}\\cdot\\frac{3}{9}=0.5333333$$"
      ]
    },
    {
      "cell_type": "code",
      "metadata": {
        "id": "r8alfrcDk23V",
        "outputId": "f2a71c44-1014-4f43-c11c-dba5f1346431",
        "colab": {
          "base_uri": "https://localhost:8080/",
          "height": 296
        }
      },
      "source": [
        "#HOT DECK\n",
        "\n",
        "import random\n",
        "import matplotlib.pyplot as plt\n",
        "\n",
        "n = 1000000\n",
        "count = 0\n",
        "nc21 = []\n",
        "\n",
        "#all_cards = [3,4,5,6,7,10,11,12,3,4,5,6,7,10,11,12,3,4,5,6,7,10,11,12,3,4,5,6,7,10,11,12]\n",
        "#all_cards = [3,4,5,6,7,10,10,10,3,4,5,6,7,10,10,10,3,4,5,6,7,10,10,10,3,4,5,6,7,10,10,10]\n",
        "all_cards = [3,4,5,6,7,8,9,10,11,12,13,3,4,5,6,7,8,9,10,11,12,13,3,4,5,6,7,8,9,10,11,12,13,3,4,5,6,7,8,9,10,11,12,13] \n",
        "#all_cards = [3,4,5,6,7,8,9,10,10,10,10,3,4,5,6,7,8,9,10,10,10,10,3,4,5,6,7,8,9,10,10,10,10,3,4,5,6,7,8,9,10,10,10,10]\n",
        "\n",
        "ini_cards = [1,1,1,1,2,2,2,2]\n",
        "\n",
        "for i in range(2):\n",
        "  ini_cards.append(random.choice(all_cards))\n",
        "\n",
        "for i in range(n):\n",
        "  cards = ini_cards.copy()\n",
        "  my_list = [7,7,5]\n",
        "  nc = 0\n",
        "  while sum(my_list) < 21:\n",
        "    next_card = random.choice(cards)\n",
        "    cards.remove(next_card)\n",
        "    my_list.append(next_card)\n",
        "    nc+=1\n",
        "\n",
        "  if sum(my_list) == 21:\n",
        "    count += 1\n",
        "    nc21.append(nc)\n",
        "print(\"Probability of getting 21: \",count/n)\n",
        "plt.hist(nc21,density=True,bins=[1,2,3])\n",
        "plt.xlabel(\"Numero de cartas\")\n",
        "plt.show()"
      ],
      "execution_count": null,
      "outputs": [
        {
          "output_type": "stream",
          "text": [
            "Probability of getting 21:  0.53349\n"
          ],
          "name": "stdout"
        },
        {
          "output_type": "display_data",
          "data": {
            "image/png": "[encoded data removed]",
            "text/plain": [
              "<Figure size 432x288 with 1 Axes>"
            ]
          },
          "metadata": {
            "tags": [],
            "needs_background": "light"
          }
        }
      ]
    },
    {
      "cell_type": "code",
      "metadata": {
        "id": "bbVPTjwyvFIV",
        "outputId": "5ba39428-e1bf-4af2-ae02-25cd25dc528f",
        "colab": {
          "base_uri": "https://localhost:8080/",
          "height": 330
        }
      },
      "source": [
        "#COLD DECK --> Probabilidad cero de completar 21\n",
        "\n",
        "import random\n",
        "import matplotlib.pyplot as plt\n",
        "\n",
        "n = 100000\n",
        "count = 0\n",
        "nc21 = []\n",
        "\n",
        "#all_cards = [3,4,5,6,7,10,11,12,3,4,5,6,7,10,11,12,3,4,5,6,7,10,11,12,3,4,5,6,7,10,11,12]\n",
        "#all_cards = [3,4,5,6,7,10,10,10,3,4,5,6,7,10,10,10,3,4,5,6,7,10,10,10,3,4,5,6,7,10,10,10]\n",
        "all_cards = [3,4,5,6,7,8,9,10,11,12,13,3,4,5,6,7,8,9,10,11,12,13,3,4,5,6,7,8,9,10,11,12,13,3,4,5,6,7,8,9,10,11,12,13] \n",
        "#all_cards = [3,4,5,6,7,8,9,10,10,10,10,3,4,5,6,7,8,9,10,10,10,10,3,4,5,6,7,8,9,10,10,10,10,3,4,5,6,7,8,9,10,10,10,10]\n",
        "\n",
        "ini_cards = []\n",
        "\n",
        "for i in range(10):\n",
        "  ini_cards.append(random.choice(all_cards))\n",
        "\n",
        "for i in range(n):\n",
        "  cards = ini_cards.copy()\n",
        "  my_list = [7,7,5]\n",
        "  nc = 0\n",
        "  while sum(my_list) < 21:\n",
        "    next_card = random.choice(cards)\n",
        "    cards.remove(next_card)\n",
        "    my_list.append(next_card)\n",
        "    nc+=1\n",
        "\n",
        "  if sum(my_list) == 21:\n",
        "    count += 1\n",
        "    nc21.append(nc)\n",
        "print(\"Probability of getting 21: \",count/n)\n",
        "plt.hist(nc21,density=True,bins=[1,2,3])\n",
        "plt.xlabel(\"Numero de cartas\")\n",
        "plt.show()"
      ],
      "execution_count": null,
      "outputs": [
        {
          "output_type": "stream",
          "text": [
            "Probability of getting 21:  0.0\n"
          ],
          "name": "stdout"
        },
        {
          "output_type": "stream",
          "text": [
            "/usr/local/lib/python3.6/dist-packages/numpy/lib/histograms.py:908: RuntimeWarning: invalid value encountered in true_divide\n",
            "  return n/db/n.sum(), bin_edges\n"
          ],
          "name": "stderr"
        },
        {
          "output_type": "display_data",
          "data": {
            "image/png": "[encoded data removed]",
            "text/plain": [
              "<Figure size 432x288 with 1 Axes>"
            ]
          },
          "metadata": {
            "tags": [],
            "needs_background": "light"
          }
        }
      ]
    },
    {
      "cell_type": "markdown",
      "metadata": {
        "id": "P_BgWMG2BBiH"
      },
      "source": [
        "## Ejercicio 5\n",
        "\n",
        "If Ben goes to Vegas every weekend (Friday, Saturday and Sunday), plays every weekend day 10 hours, each game takes 3 mins. He gets the cards [7,7,5] and a remaining hot deck with probability 1/10, the cards in hot deck are the ones obtained in the previous quiz point 4. Asume that for cold decks the Ben has no cards and the remaining deck is the complete deck. He bets \\$1000 on hot decks and \\$10 on cold decks. What is the estimated amount of money that Ben wins or losses on a weekend estimated with 10 million simulations using both the Spanish and Poker card decks? Plot the experimental distribution of the numbers of card requires to complete 21 in 10000 simulations."
      ]
    },
    {
      "cell_type": "code",
      "metadata": {
        "id": "eX9bDnZbJD43",
        "outputId": "fed61572-fdb9-4d48-a226-8d2e3509669a",
        "colab": {
          "base_uri": "https://localhost:8080/",
          "height": 282
        }
      },
      "source": [
        "import matplotlib.pyplot as plt\n",
        "import random\n",
        "\n",
        "nc21 = []\n",
        "n = 600\n",
        "sum_result = 0\n",
        "num_sim = 10000\n",
        "\n",
        "for j in range(num_sim):\n",
        "  result = 0\n",
        "  for i in range(n):\n",
        "    #cards_cold = [3,4,5,6,7,10,10,10,3,4,5,6,7,10,10,10,3,4,5,6,7,10,10,10,11,12,3,4,5,6,7,10,11,12] #Spanish 48-card deck\n",
        "    #cards_cold = [3,4,5,6,7,10,11,12,3,4,5,6,7,10,11,12,3,4,5,6,7,10,3,4,5,6,7,10,10,10] #Spanish 48-card deck replacing 11,12 by 10,10\n",
        "    cards_cold = [3,4,5,6,7,8,9,10,11,12,13,3,4,5,6,7,8,9,10,11,12,13,3,4,5,6,7,8,9,10,11,12,13,3,4,5,6,7,8,9,10,11,12,13] #Poker 52-card deck\n",
        "    #cards_cold = [3,4,5,6,7,8,9,10,10,10,10,3,4,5,6,7,8,9,10,10,10,10,3,4,5,6,7,8,9,10,10,10,10,3,4,5,6,7,8,9,10,10,10,10]\n",
        "\n",
        "    cards_hot = [1,1,1,1,2,2,2,2,3,3]\n",
        "    opc = [cards_cold,cards_hot]\n",
        "    cards = random.choice(opc)\n",
        "    if cards == cards_cold:\n",
        "      bet = 10\n",
        "      my_list = []\n",
        "    else:\n",
        "      bet = 1000\n",
        "      my_list = [7,7,5]\n",
        "    nc = 0\n",
        "    while sum(my_list) < 21:\n",
        "      next_card = random.choice(cards)\n",
        "      cards.remove(next_card)\n",
        "      my_list.append(next_card)\n",
        "      nc += 1\n",
        "\n",
        "    if sum(my_list) == 21:\n",
        "      result += bet\n",
        "      nc21.append(nc)\n",
        "    else:\n",
        "      result -= bet\n",
        "  sum_result += result\n",
        "\n",
        "print(sum_result/num_sim)\n",
        "plt.hist(nc21,density=True,bins=max(nc21)-min(nc21))\n",
        "plt.show()\n",
        "  "
      ],
      "execution_count": null,
      "outputs": [
        {
          "output_type": "stream",
          "text": [
            "17962.237\n"
          ],
          "name": "stdout"
        },
        {
          "output_type": "display_data",
          "data": {
            "image/png": "[encoded data removed]",
            "text/plain": [
              "<Figure size 432x288 with 1 Axes>"
            ]
          },
          "metadata": {
            "tags": [],
            "needs_background": "light"
          }
        }
      ]
    }
  ]
}
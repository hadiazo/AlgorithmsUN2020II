{
  "nbformat": 4,
  "nbformat_minor": 0,
  "metadata": {
    "colab": {
      "name": "Lab_9_GaleShapleyIrving_1st_point.ipynb",
      "provenance": [],
      "collapsed_sections": []
    },
    "kernelspec": {
      "name": "python3",
      "display_name": "Python 3"
    }
  },
  "cells": [
    {
      "cell_type": "markdown",
      "metadata": {
        "id": "5yCMB7jZeFF_"
      },
      "source": [
        "# <center> LAB 9 - Gale-Shapley and Irving Algorithms </center>\n",
        "<center>Harold Alfredo Díaz Ortiz</center>"
      ]
    },
    {
      "cell_type": "markdown",
      "metadata": {
        "id": "GVIyUHAbYD6-"
      },
      "source": [
        "# Punto 1\n",
        "\n",
        "Find the best and worst cases for the Gale-Shapley and Irving ( <a rel=\"noreferrer noopener\" href=\"http://www.google.com/url?q=http%3A%2F%2Fwww.dcs.gla.ac.uk%2F~pat%2Fjchoco%2Froommates%2Fpapers%2FComp_sdarticle.pdf&amp;sa=D&amp;sntz=1&amp;usg=AFQjCNGQ0dZWRogUukUGh3nfPtxoSf_zKQ\" target=\"_blank\">An Efficient Algorithm for the “Stable Roommates” Problem</a>) Algorithms and run in Colab these algorithms for those cases for n=4 and 40.<ul><li>Gale–Shapley algorithm simply explained – <a rel=\"noreferrer noopener\" href=\"https://www.google.com/url?q=https%3A%2F%2Ftowardsdatascience.com%2Fgale-shapley-algorithm-simply-explained-caa344e643c2&amp;sa=D&amp;sntz=1&amp;usg=AFQjCNFY2_0Jta3gQm6u49dpS6SwA-b7Zw\" target=\"_blank\">towardsdatascience</a></li><li>Stable Marriage Problem – <a rel=\"noreferrer noopener\" href=\"https://www.google.com/url?q=https%3A%2F%2Fwww.geeksforgeeks.org%2Fstable-marriage-problem%2F&amp;sa=D&amp;sntz=1&amp;usg=AFQjCNHOha_A_84VqRM1h4raycqrdD1yBw\" target=\"_blank\">geeksforgeeks</a></li><li>Stable matching, as a game – <a rel=\"noreferrer noopener\" href=\"https://www.google.com/url?q=https%3A%2F%2Ftowardsdatascience.com%2Fstable-matching-as-a-game-a68c279d70b&amp;sa=D&amp;sntz=1&amp;usg=AFQjCNFzbKZ6J55Y5q-XkZffWF1nXvZOwA\" target=\"_blank\">towardsdatascience.com</a></li></ul>"
      ]
    },
    {
      "cell_type": "code",
      "metadata": {
        "colab": {
          "base_uri": "https://localhost:8080/"
        },
        "id": "w79X6KpM4X0_",
        "outputId": "12d67ba9-7b39-4f81-cf4f-fa1357dda5ab"
      },
      "source": [
        "%pylab inline\n",
        "import pandas as pd\n",
        "import numpy as np\n",
        "from collections import Counter\n",
        "from copy import copy"
      ],
      "execution_count": 24,
      "outputs": [
        {
          "output_type": "stream",
          "name": "stdout",
          "text": [
            "Populating the interactive namespace from numpy and matplotlib\n"
          ]
        }
      ]
    },
    {
      "cell_type": "markdown",
      "metadata": {
        "id": "aQjYiESwd-qV"
      },
      "source": [
        "## Gale-Shapley"
      ]
    },
    {
      "cell_type": "markdown",
      "metadata": {
        "id": "4_Iv_enXexHj"
      },
      "source": [
        "### Mejor caso\n",
        "\n",
        "El mejor caso para este algoritmo corresponde cuando cada hombre tiene como máxima prioridad a una mujer que lo tiene a él como máxima prioridad, mientras ningún otro hombre o mujer los tiene a ellos como prioridad máxima. Para este caso particular, las proposiciones de los hombres tendrían que ser idénticas en su respectivo DataFrame a la de las mujeres."
      ]
    },
    {
      "cell_type": "code",
      "metadata": {
        "id": "K6PilkRw6DTt"
      },
      "source": [
        "def women_proposals(n, index, women_dict, arr):\n",
        "  initial_arr = [arr[0]] + arr[1:][::-1] #[1]+list(range(n, 1, -1))\n",
        "  for i in range(n, 0, -1):\n",
        "    name = \"M\" + str(n-i+1)\n",
        "    arr = initial_arr[(i-n+1):] + initial_arr[:(i-n+1)]\n",
        "    women_dict[name] = arr\n",
        "    index.append(\"W\"+str(n-i+1))\n",
        "  return women_dict, index"
      ],
      "execution_count": 25,
      "outputs": []
    },
    {
      "cell_type": "code",
      "metadata": {
        "id": "J30vohWXgfWx"
      },
      "source": [
        "def men_proposals(n, index, men_dict, arr):\n",
        "  initial_arr = arr[:len(arr)-1] #list(range(1, n))\n",
        "  for i in range(n-1, -1, -1):\n",
        "    name = \"M\" + str(n-i)\n",
        "    arr = initial_arr[i:] + initial_arr[:i] + [n]\n",
        "    men_dict[name] = arr\n",
        "    index.append(\"W\"+str(n-i))\n",
        "  return men_dict, index"
      ],
      "execution_count": 26,
      "outputs": []
    },
    {
      "cell_type": "markdown",
      "metadata": {
        "id": "9XaBhqNNkuNu"
      },
      "source": [
        "En las celdas anteriores se encuentran las funciones generadoras de propuestas, tanto para hombres como mujeres. Dichas funciones se dan a partir de un arreglo semilla que debe ser una permutación de $n$ números con ningún elemento repetido (como en el laboratorio anterior). Las funciones anteriores se adaptaron para generar los peores casos, pero por ahora nos enfocaremos en el mejor caso, donde las relaciones de preferencia de hombres y mujeres son idénticas."
      ]
    },
    {
      "cell_type": "code",
      "metadata": {
        "id": "qsQtQI3hcyIS"
      },
      "source": [
        "n = 4\n",
        "arr = list(range(1, n+1)) # Para este caso, el arreglo semilla puede ser cualquiera\n",
        "women_dict, women_index = women_proposals(n, [], {}, arr) \n",
        "\n",
        "# En el mejor caso se igualan en lugar de ejecutar la función correspondiente \n",
        "men_dict, men_index = women_dict, women_index \n",
        "man_list, women_list = men_dict.keys(), women_index"
      ],
      "execution_count": 27,
      "outputs": []
    },
    {
      "cell_type": "markdown",
      "metadata": {
        "id": "Trk_S8hEpYEz"
      },
      "source": [
        "Esta es una función auxiliar para generar los dataframes. Debido a como se formaron las funciones, el DataFrame generado debe ser traspuesto para quedar con el mismo formato de las referencias."
      ]
    },
    {
      "cell_type": "code",
      "metadata": {
        "id": "65z65xBiohDB"
      },
      "source": [
        "def fill_dataframe(dictionary, index):\n",
        "  gender = pd.DataFrame(dictionary)\n",
        "  gender.index = index\n",
        "  return gender.transpose()"
      ],
      "execution_count": 28,
      "outputs": []
    },
    {
      "cell_type": "code",
      "metadata": {
        "colab": {
          "base_uri": "https://localhost:8080/",
          "height": 173
        },
        "id": "NiwnuOn2Bsh6",
        "outputId": "7c52993f-29fd-480f-ab5f-85e4c8e59ea6"
      },
      "source": [
        "man_df = fill_dataframe(men_dict, men_index)\n",
        "man_df"
      ],
      "execution_count": 29,
      "outputs": [
        {
          "output_type": "execute_result",
          "data": {
            "text/plain": [
              "    W1  W2  W3  W4\n",
              "M1   4   3   2   1\n",
              "M2   1   4   3   2\n",
              "M3   2   1   4   3\n",
              "M4   3   2   1   4"
            ],
            "text/html": "<div>\n<style scoped>\n    .dataframe tbody tr th:only-of-type {\n        vertical-align: middle;\n    }\n\n    .dataframe tbody tr th {\n        vertical-align: top;\n    }\n\n    .dataframe thead th {\n        text-align: right;\n    }\n</style>\n<table border=\"1\" class=\"dataframe\">\n  <thead>\n    <tr style=\"text-align: right;\">\n      <th></th>\n      <th>W1</th>\n      <th>W2</th>\n      <th>W3</th>\n      <th>W4</th>\n    </tr>\n  </thead>\n  <tbody>\n    <tr>\n      <th>M1</th>\n      <td>4</td>\n      <td>3</td>\n      <td>2</td>\n      <td>1</td>\n    </tr>\n    <tr>\n      <th>M2</th>\n      <td>1</td>\n      <td>4</td>\n      <td>3</td>\n      <td>2</td>\n    </tr>\n    <tr>\n      <th>M3</th>\n      <td>2</td>\n      <td>1</td>\n      <td>4</td>\n      <td>3</td>\n    </tr>\n    <tr>\n      <th>M4</th>\n      <td>3</td>\n      <td>2</td>\n      <td>1</td>\n      <td>4</td>\n    </tr>\n  </tbody>\n</table>\n</div>"
          },
          "metadata": {},
          "execution_count": 29
        }
      ]
    },
    {
      "cell_type": "code",
      "metadata": {
        "colab": {
          "base_uri": "https://localhost:8080/",
          "height": 173
        },
        "id": "aBHKJ22HqITw",
        "outputId": "3ee4d05b-dad7-43e3-9180-6ff32988e353"
      },
      "source": [
        "women_df = fill_dataframe(women_dict, women_index)\n",
        "women_df"
      ],
      "execution_count": 30,
      "outputs": [
        {
          "output_type": "execute_result",
          "data": {
            "text/plain": [
              "    W1  W2  W3  W4\n",
              "M1   4   3   2   1\n",
              "M2   1   4   3   2\n",
              "M3   2   1   4   3\n",
              "M4   3   2   1   4"
            ],
            "text/html": "<div>\n<style scoped>\n    .dataframe tbody tr th:only-of-type {\n        vertical-align: middle;\n    }\n\n    .dataframe tbody tr th {\n        vertical-align: top;\n    }\n\n    .dataframe thead th {\n        text-align: right;\n    }\n</style>\n<table border=\"1\" class=\"dataframe\">\n  <thead>\n    <tr style=\"text-align: right;\">\n      <th></th>\n      <th>W1</th>\n      <th>W2</th>\n      <th>W3</th>\n      <th>W4</th>\n    </tr>\n  </thead>\n  <tbody>\n    <tr>\n      <th>M1</th>\n      <td>4</td>\n      <td>3</td>\n      <td>2</td>\n      <td>1</td>\n    </tr>\n    <tr>\n      <th>M2</th>\n      <td>1</td>\n      <td>4</td>\n      <td>3</td>\n      <td>2</td>\n    </tr>\n    <tr>\n      <th>M3</th>\n      <td>2</td>\n      <td>1</td>\n      <td>4</td>\n      <td>3</td>\n    </tr>\n    <tr>\n      <th>M4</th>\n      <td>3</td>\n      <td>2</td>\n      <td>1</td>\n      <td>4</td>\n    </tr>\n  </tbody>\n</table>\n</div>"
          },
          "metadata": {},
          "execution_count": 30
        }
      ]
    },
    {
      "cell_type": "markdown",
      "metadata": {
        "id": "pKYR5-FgqUeA"
      },
      "source": [
        "Cabe aclarar que las personas se identifican por una clave alfanumérica. El primer símbolo corresponde a su género, siendo W para cuando es mujer y M para cuando es hombre. A continuación, le precede un número cualquiera entre $1$ y $n$."
      ]
    },
    {
      "cell_type": "code",
      "metadata": {
        "id": "ZEryfyfPSbwp"
      },
      "source": [
        "def gale_shapley(waiting_list, man_list, women_available, man_df, women_df, proposals):\n",
        "  # variable to count number of iterations\n",
        "  count = 0\n",
        "  # while not all men have pairs\n",
        "  while len(waiting_list)<len(man_list):\n",
        "    # man makes proposals\n",
        "    for man in man_list:\n",
        "        if man not in waiting_list:\n",
        "            # each man make proposal to the top women from it's list\n",
        "            women = women_available[man]\n",
        "            best_choice = man_df.loc[man][man_df.loc[man].index.isin(women)].idxmin()\n",
        "            proposals[(man, best_choice)] = (man_df.loc[man][best_choice], women_df.loc[man][best_choice])\n",
        "\n",
        "    # if women have more than one proposals \n",
        "    # she will choose the best option\n",
        "    overlays = Counter([key[1] for key in proposals.keys()])\n",
        "    # cycle to choose the best options\n",
        "    for women in overlays.keys():\n",
        "        if overlays[women]>1:\n",
        "            # pairs to drop from proposals\n",
        "            pairs_to_drop = sorted({pair: proposals[pair] for pair in proposals.keys() \n",
        "                    if women in pair}.items(), \n",
        "                   key=lambda x: x[1][1]\n",
        "                  )[1:]\n",
        "            # if man was rejected by woman\n",
        "            # there is no pint for him to make proposal \n",
        "            # second time to the same woman\n",
        "            for p_to_drop in pairs_to_drop:\n",
        "                del proposals[p_to_drop[0]]\n",
        "                _women = copy(women_available[p_to_drop[0][0]])\n",
        "                _women.remove(p_to_drop[0][1])\n",
        "                women_available[p_to_drop[0][0]] = _women\n",
        "    # man who successfully created pairs must be added to the waiting list \n",
        "    waiting_list = [man[0] for man in proposals.keys()]\n",
        "    # update counter\n",
        "    count+=1\n",
        "\n",
        "  return count, proposals"
      ],
      "execution_count": 31,
      "outputs": []
    },
    {
      "cell_type": "markdown",
      "metadata": {
        "id": "kHte2kfsr7Zf"
      },
      "source": [
        "La función anterior es la correspondiente al algoritmo de Gale-Shapley. Nótese que para dicha función hay que tener inicializadas varias variables, y por ello es importante el orden en las celdas de código."
      ]
    },
    {
      "cell_type": "code",
      "metadata": {
        "id": "V5dI8c-FSQsA"
      },
      "source": [
        "# dict to control which women each man can make proposals\n",
        "women_available = {man:women_list for man in man_list}\n",
        "# waiting list of men that were able to create pair on each iteration\n",
        "waiting_list = []\n",
        "# dict to store created pairs\n",
        "proposals = {}\n",
        "\n",
        "count, proposals = gale_shapley(waiting_list, man_list, women_available, man_df, women_df, proposals)"
      ],
      "execution_count": 32,
      "outputs": []
    },
    {
      "cell_type": "markdown",
      "metadata": {
        "id": "jE1wJJ7vsVea"
      },
      "source": [
        "El número de iteraciones en el mejor caso para $n=4$ es:"
      ]
    },
    {
      "cell_type": "code",
      "metadata": {
        "colab": {
          "base_uri": "https://localhost:8080/"
        },
        "id": "qQ-HlcvjXR9-",
        "outputId": "3771e9d7-ccc9-4039-afb5-02a86372bfae"
      },
      "source": [
        "count"
      ],
      "execution_count": 33,
      "outputs": [
        {
          "output_type": "execute_result",
          "data": {
            "text/plain": [
              "1"
            ]
          },
          "metadata": {},
          "execution_count": 33
        }
      ]
    },
    {
      "cell_type": "markdown",
      "metadata": {
        "id": "IB0JxPmRsgNo"
      },
      "source": [
        "Las parejas ordenadas en el mejor caso para $n=4$ junto con el orden de prioridad que tenían cada una es:"
      ]
    },
    {
      "cell_type": "code",
      "metadata": {
        "colab": {
          "base_uri": "https://localhost:8080/"
        },
        "id": "ezjGcXZ-W_59",
        "outputId": "91a60b36-ca65-495b-cdd3-5fea2933f117"
      },
      "source": [
        "proposals"
      ],
      "execution_count": 34,
      "outputs": [
        {
          "output_type": "execute_result",
          "data": {
            "text/plain": [
              "{('M1', 'W4'): (1, 1),\n",
              " ('M2', 'W1'): (1, 1),\n",
              " ('M3', 'W2'): (1, 1),\n",
              " ('M4', 'W3'): (1, 1)}"
            ]
          },
          "metadata": {},
          "execution_count": 34
        }
      ]
    },
    {
      "cell_type": "markdown",
      "metadata": {
        "id": "YNpyWja1svzk"
      },
      "source": [
        "Para $n=40$, este sería el algoritmo del mejor caso:"
      ]
    },
    {
      "cell_type": "code",
      "metadata": {
        "id": "fupPM6Qus9GC"
      },
      "source": [
        "n = 40\n",
        "arr = list(range(1, n+1)) # Para este caso, el arreglo semilla puede ser cualquiera\n",
        "women_dict, women_index = women_proposals(n, [], {}, arr) \n",
        "\n",
        "# En el mejor caso se igualan en lugar de ejecutar la función correspondiente \n",
        "men_dict, men_index = women_dict, women_index \n",
        "man_list, women_list = men_dict.keys(), women_index\n",
        "\n",
        "man_df = fill_dataframe(men_dict, men_index)\n",
        "women_df = fill_dataframe(women_dict, women_index)\n",
        "\n",
        "# dict to control which women each man can make proposals\n",
        "women_available = {man:women_list for man in man_list}\n",
        "# waiting list of men that were able to create pair on each iteration\n",
        "waiting_list = []\n",
        "# dict to store created pairs\n",
        "proposals = {}\n",
        "\n",
        "count, proposals = gale_shapley(waiting_list, man_list, women_available, man_df, women_df, proposals)"
      ],
      "execution_count": 35,
      "outputs": []
    },
    {
      "cell_type": "markdown",
      "metadata": {
        "id": "eQTdL56Ztr9K"
      },
      "source": [
        "El número de iteraciones en el mejor caso para $n=40$ es:"
      ]
    },
    {
      "cell_type": "code",
      "metadata": {
        "colab": {
          "base_uri": "https://localhost:8080/"
        },
        "id": "2zYtDM34tr9K",
        "outputId": "7883777a-3c4d-4113-af2e-12f3efa6398d"
      },
      "source": [
        "count"
      ],
      "execution_count": 36,
      "outputs": [
        {
          "output_type": "execute_result",
          "data": {
            "text/plain": [
              "1"
            ]
          },
          "metadata": {},
          "execution_count": 36
        }
      ]
    },
    {
      "cell_type": "markdown",
      "metadata": {
        "id": "qI0Xm4tVtr9K"
      },
      "source": [
        "Las parejas ordenadas en el mejor caso para $n=40$ junto con el orden de prioridad que tenían cada una es:"
      ]
    },
    {
      "cell_type": "code",
      "metadata": {
        "colab": {
          "base_uri": "https://localhost:8080/"
        },
        "id": "vemRDkjEtr9K",
        "outputId": "7bc8a9e0-dce1-4e0f-a78c-c1c2fc79ef7e"
      },
      "source": [
        "proposals"
      ],
      "execution_count": 37,
      "outputs": [
        {
          "output_type": "execute_result",
          "data": {
            "text/plain": [
              "{('M1', 'W40'): (1, 1),\n",
              " ('M2', 'W1'): (1, 1),\n",
              " ('M3', 'W2'): (1, 1),\n",
              " ('M4', 'W3'): (1, 1),\n",
              " ('M5', 'W4'): (1, 1),\n",
              " ('M6', 'W5'): (1, 1),\n",
              " ('M7', 'W6'): (1, 1),\n",
              " ('M8', 'W7'): (1, 1),\n",
              " ('M9', 'W8'): (1, 1),\n",
              " ('M10', 'W9'): (1, 1),\n",
              " ('M11', 'W10'): (1, 1),\n",
              " ('M12', 'W11'): (1, 1),\n",
              " ('M13', 'W12'): (1, 1),\n",
              " ('M14', 'W13'): (1, 1),\n",
              " ('M15', 'W14'): (1, 1),\n",
              " ('M16', 'W15'): (1, 1),\n",
              " ('M17', 'W16'): (1, 1),\n",
              " ('M18', 'W17'): (1, 1),\n",
              " ('M19', 'W18'): (1, 1),\n",
              " ('M20', 'W19'): (1, 1),\n",
              " ('M21', 'W20'): (1, 1),\n",
              " ('M22', 'W21'): (1, 1),\n",
              " ('M23', 'W22'): (1, 1),\n",
              " ('M24', 'W23'): (1, 1),\n",
              " ('M25', 'W24'): (1, 1),\n",
              " ('M26', 'W25'): (1, 1),\n",
              " ('M27', 'W26'): (1, 1),\n",
              " ('M28', 'W27'): (1, 1),\n",
              " ('M29', 'W28'): (1, 1),\n",
              " ('M30', 'W29'): (1, 1),\n",
              " ('M31', 'W30'): (1, 1),\n",
              " ('M32', 'W31'): (1, 1),\n",
              " ('M33', 'W32'): (1, 1),\n",
              " ('M34', 'W33'): (1, 1),\n",
              " ('M35', 'W34'): (1, 1),\n",
              " ('M36', 'W35'): (1, 1),\n",
              " ('M37', 'W36'): (1, 1),\n",
              " ('M38', 'W37'): (1, 1),\n",
              " ('M39', 'W38'): (1, 1),\n",
              " ('M40', 'W39'): (1, 1)}"
            ]
          },
          "metadata": {},
          "execution_count": 37
        }
      ]
    },
    {
      "cell_type": "markdown",
      "metadata": {
        "id": "SlY6VjEqu4hX"
      },
      "source": [
        "### Peor caso\n",
        "\n",
        "La fuente sobre la cual se tomó en cuenta el análisis del peor caso es este <a href=https://www.mdpi.com/1999-4893/6/2/371/htm> artículo</a>, en el cual se explica la lógica detrás del peor caso, además de algunas apreciaciones aparte de las referenciadas al inicio de este notebook. "
      ]
    },
    {
      "cell_type": "markdown",
      "metadata": {
        "id": "MtcHDvoqxpej"
      },
      "source": [
        "Las relaciones de preferencia en el peor caso para las mujeres se pueden entender de la siguiente manera:\n",
        "\n",
        "\\begin{pmatrix}\n",
        "n & n-1 & n-2 & \\dots & 1  \\\\ \n",
        "1 & n & n-1 & \\dots & 2\\\\ \n",
        "2 & 1 & n & \\dots  & 3\\\\ \n",
        "\\dots & \\dots & \\dots & \\dots & \\dots \\\\ \n",
        "n-1 & n-2 & \\dots & 1 & n \n",
        "\\end{pmatrix}"
      ]
    },
    {
      "cell_type": "markdown",
      "metadata": {
        "id": "Pmo4fgYYxy6P"
      },
      "source": [
        "Mientras tanto, las relaciones de preferencia en el peor caso para los hombres se pueden concebir así:\n",
        "\n",
        "\\begin{pmatrix}\n",
        "1 & 2 & 3 & \\dots & n\\\\ \n",
        "n-1 & 1 & 2 & \\dots & n\\\\ \n",
        "n-2 & n-1 & 1 & \\dots & n\\\\ \n",
        "\\dots & \\dots & \\dots & \\dots & n\\\\ \n",
        "1 & 2 & 3 & \\dots & n\n",
        "\\end{pmatrix}"
      ]
    },
    {
      "cell_type": "markdown",
      "metadata": {
        "id": "J-qKdCETy9XG"
      },
      "source": [
        "Tanto la función de generación de parejas para hombres como para mujeres está diseñada sobre todo para el peor caso, siempre y cuando el arreglo semilla es el de una permutación ordenada de $n$ números. Para ver el peor caso con $n=4$ haremos lo mismo que antes, pero esta vez el DataFrame de las relaciones de preferencia de los hombres no se iguala al de las mujeres, sino que se crea a partir de la función de generación con el arreglo semilla de la permutación ordenada."
      ]
    },
    {
      "cell_type": "code",
      "metadata": {
        "id": "ss_hf8ZA0GBC"
      },
      "source": [
        "n = 4\n",
        "arr = list(range(1, n+1)) \n",
        "women_dict, women_index = women_proposals(n, [], {}, arr)  \n",
        "men_dict, men_index = men_proposals(n, [], {}, arr)\n",
        "man_list, women_list = men_dict.keys(), women_index"
      ],
      "execution_count": 38,
      "outputs": []
    },
    {
      "cell_type": "code",
      "metadata": {
        "colab": {
          "base_uri": "https://localhost:8080/",
          "height": 173
        },
        "id": "WpTxFR_s0RY1",
        "outputId": "bb796a3c-3beb-4f51-d39a-70e8a9629c6a"
      },
      "source": [
        "man_df = fill_dataframe(men_dict, men_index)\n",
        "man_df"
      ],
      "execution_count": 39,
      "outputs": [
        {
          "output_type": "execute_result",
          "data": {
            "text/plain": [
              "    W1  W2  W3  W4\n",
              "M1   1   2   3   4\n",
              "M2   3   1   2   4\n",
              "M3   2   3   1   4\n",
              "M4   1   2   3   4"
            ],
            "text/html": "<div>\n<style scoped>\n    .dataframe tbody tr th:only-of-type {\n        vertical-align: middle;\n    }\n\n    .dataframe tbody tr th {\n        vertical-align: top;\n    }\n\n    .dataframe thead th {\n        text-align: right;\n    }\n</style>\n<table border=\"1\" class=\"dataframe\">\n  <thead>\n    <tr style=\"text-align: right;\">\n      <th></th>\n      <th>W1</th>\n      <th>W2</th>\n      <th>W3</th>\n      <th>W4</th>\n    </tr>\n  </thead>\n  <tbody>\n    <tr>\n      <th>M1</th>\n      <td>1</td>\n      <td>2</td>\n      <td>3</td>\n      <td>4</td>\n    </tr>\n    <tr>\n      <th>M2</th>\n      <td>3</td>\n      <td>1</td>\n      <td>2</td>\n      <td>4</td>\n    </tr>\n    <tr>\n      <th>M3</th>\n      <td>2</td>\n      <td>3</td>\n      <td>1</td>\n      <td>4</td>\n    </tr>\n    <tr>\n      <th>M4</th>\n      <td>1</td>\n      <td>2</td>\n      <td>3</td>\n      <td>4</td>\n    </tr>\n  </tbody>\n</table>\n</div>"
          },
          "metadata": {},
          "execution_count": 39
        }
      ]
    },
    {
      "cell_type": "code",
      "metadata": {
        "colab": {
          "base_uri": "https://localhost:8080/",
          "height": 173
        },
        "id": "xVEtlOk70Wcy",
        "outputId": "0d3fb4e6-e572-4060-cde0-71be40cff7ac"
      },
      "source": [
        "women_df = fill_dataframe(women_dict, women_index)\n",
        "women_df"
      ],
      "execution_count": 40,
      "outputs": [
        {
          "output_type": "execute_result",
          "data": {
            "text/plain": [
              "    W1  W2  W3  W4\n",
              "M1   4   3   2   1\n",
              "M2   1   4   3   2\n",
              "M3   2   1   4   3\n",
              "M4   3   2   1   4"
            ],
            "text/html": "<div>\n<style scoped>\n    .dataframe tbody tr th:only-of-type {\n        vertical-align: middle;\n    }\n\n    .dataframe tbody tr th {\n        vertical-align: top;\n    }\n\n    .dataframe thead th {\n        text-align: right;\n    }\n</style>\n<table border=\"1\" class=\"dataframe\">\n  <thead>\n    <tr style=\"text-align: right;\">\n      <th></th>\n      <th>W1</th>\n      <th>W2</th>\n      <th>W3</th>\n      <th>W4</th>\n    </tr>\n  </thead>\n  <tbody>\n    <tr>\n      <th>M1</th>\n      <td>4</td>\n      <td>3</td>\n      <td>2</td>\n      <td>1</td>\n    </tr>\n    <tr>\n      <th>M2</th>\n      <td>1</td>\n      <td>4</td>\n      <td>3</td>\n      <td>2</td>\n    </tr>\n    <tr>\n      <th>M3</th>\n      <td>2</td>\n      <td>1</td>\n      <td>4</td>\n      <td>3</td>\n    </tr>\n    <tr>\n      <th>M4</th>\n      <td>3</td>\n      <td>2</td>\n      <td>1</td>\n      <td>4</td>\n    </tr>\n  </tbody>\n</table>\n</div>"
          },
          "metadata": {},
          "execution_count": 40
        }
      ]
    },
    {
      "cell_type": "code",
      "metadata": {
        "id": "LBL1jSyh0R-l"
      },
      "source": [
        "# dict to control which women each man can make proposals\n",
        "women_available = {man:women_list for man in man_list}\n",
        "# waiting list of men that were able to create pair on each iteration\n",
        "waiting_list = []\n",
        "# dict to store created pairs\n",
        "proposals = {}\n",
        "\n",
        "count, proposals = gale_shapley(waiting_list, man_list, women_available, man_df, women_df, proposals)"
      ],
      "execution_count": 41,
      "outputs": []
    },
    {
      "cell_type": "markdown",
      "metadata": {
        "id": "TFOGuf1o0j7R"
      },
      "source": [
        "El número de iteraciones en el peor caso para $n=4$ es:"
      ]
    },
    {
      "cell_type": "code",
      "metadata": {
        "colab": {
          "base_uri": "https://localhost:8080/"
        },
        "id": "03LhSasu0j7R",
        "outputId": "86cf76c6-4a38-41ba-a821-2488fc7f26e0"
      },
      "source": [
        "count"
      ],
      "execution_count": 42,
      "outputs": [
        {
          "output_type": "execute_result",
          "data": {
            "text/plain": [
              "10"
            ]
          },
          "metadata": {},
          "execution_count": 42
        }
      ]
    },
    {
      "cell_type": "markdown",
      "metadata": {
        "id": "t7MgWwjG0j7R"
      },
      "source": [
        "Las parejas ordenadas en el peor caso para $n=4$ junto con el orden de prioridad que tenían cada una es:"
      ]
    },
    {
      "cell_type": "code",
      "metadata": {
        "colab": {
          "base_uri": "https://localhost:8080/"
        },
        "id": "wBVHD-r30j7S",
        "outputId": "37f7ca14-8ce8-4664-bf26-426fdcff6054"
      },
      "source": [
        "proposals"
      ],
      "execution_count": 43,
      "outputs": [
        {
          "output_type": "execute_result",
          "data": {
            "text/plain": [
              "{('M2', 'W1'): (3, 1),\n",
              " ('M3', 'W2'): (3, 1),\n",
              " ('M4', 'W3'): (3, 1),\n",
              " ('M1', 'W4'): (4, 1)}"
            ]
          },
          "metadata": {},
          "execution_count": 43
        }
      ]
    },
    {
      "cell_type": "markdown",
      "metadata": {
        "id": "8Ho-KnWy2t84"
      },
      "source": [
        "Para $n=40$, este sería el algoritmo del peor caso:"
      ]
    },
    {
      "cell_type": "code",
      "metadata": {
        "id": "r7EATx9h2t84"
      },
      "source": [
        "n = 40\n",
        "arr = list(range(1, n+1)) # Para este caso, el arreglo semilla puede ser cualquiera\n",
        "women_dict, women_index = women_proposals(n, [], {}, arr) \n",
        "men_dict, men_index = men_proposals(n, [], {}, arr)\n",
        "man_list, women_list = men_dict.keys(), women_index\n",
        "\n",
        "man_df = fill_dataframe(men_dict, men_index)\n",
        "women_df = fill_dataframe(women_dict, women_index)\n",
        "\n",
        "# dict to control which women each man can make proposals\n",
        "women_available = {man:women_list for man in man_list}\n",
        "# waiting list of men that were able to create pair on each iteration\n",
        "waiting_list = []\n",
        "# dict to store created pairs\n",
        "proposals = {}\n",
        "\n",
        "count, proposals = gale_shapley(waiting_list, man_list, women_available, man_df, women_df, proposals)"
      ],
      "execution_count": 44,
      "outputs": []
    },
    {
      "cell_type": "markdown",
      "metadata": {
        "id": "zt3h6RSC3YzY"
      },
      "source": [
        "El número de iteraciones en el peor caso para $n=40$ es:"
      ]
    },
    {
      "cell_type": "code",
      "metadata": {
        "colab": {
          "base_uri": "https://localhost:8080/"
        },
        "id": "rxC0OjkO3YzY",
        "outputId": "5518bea8-106e-4226-9c45-7c678532644d"
      },
      "source": [
        "count"
      ],
      "execution_count": 45,
      "outputs": [
        {
          "output_type": "execute_result",
          "data": {
            "text/plain": [
              "1522"
            ]
          },
          "metadata": {},
          "execution_count": 45
        }
      ]
    },
    {
      "cell_type": "markdown",
      "metadata": {
        "id": "7jG-zOrL3YzZ"
      },
      "source": [
        "Las parejas ordenadas en el peor caso para $n=40$ junto con el orden de prioridad que tenían cada una es:"
      ]
    },
    {
      "cell_type": "code",
      "metadata": {
        "colab": {
          "base_uri": "https://localhost:8080/"
        },
        "id": "8A9y1HUZ3YzZ",
        "outputId": "9c111676-9e0e-4c70-d387-12fc80c9a7d3"
      },
      "source": [
        "proposals"
      ],
      "execution_count": 46,
      "outputs": [
        {
          "output_type": "execute_result",
          "data": {
            "text/plain": [
              "{('M2', 'W1'): (39, 1),\n",
              " ('M3', 'W2'): (39, 1),\n",
              " ('M4', 'W3'): (39, 1),\n",
              " ('M5', 'W4'): (39, 1),\n",
              " ('M6', 'W5'): (39, 1),\n",
              " ('M7', 'W6'): (39, 1),\n",
              " ('M8', 'W7'): (39, 1),\n",
              " ('M9', 'W8'): (39, 1),\n",
              " ('M10', 'W9'): (39, 1),\n",
              " ('M11', 'W10'): (39, 1),\n",
              " ('M12', 'W11'): (39, 1),\n",
              " ('M13', 'W12'): (39, 1),\n",
              " ('M14', 'W13'): (39, 1),\n",
              " ('M15', 'W14'): (39, 1),\n",
              " ('M16', 'W15'): (39, 1),\n",
              " ('M17', 'W16'): (39, 1),\n",
              " ('M18', 'W17'): (39, 1),\n",
              " ('M19', 'W18'): (39, 1),\n",
              " ('M20', 'W19'): (39, 1),\n",
              " ('M21', 'W20'): (39, 1),\n",
              " ('M22', 'W21'): (39, 1),\n",
              " ('M23', 'W22'): (39, 1),\n",
              " ('M24', 'W23'): (39, 1),\n",
              " ('M25', 'W24'): (39, 1),\n",
              " ('M26', 'W25'): (39, 1),\n",
              " ('M27', 'W26'): (39, 1),\n",
              " ('M28', 'W27'): (39, 1),\n",
              " ('M29', 'W28'): (39, 1),\n",
              " ('M30', 'W29'): (39, 1),\n",
              " ('M31', 'W30'): (39, 1),\n",
              " ('M32', 'W31'): (39, 1),\n",
              " ('M33', 'W32'): (39, 1),\n",
              " ('M34', 'W33'): (39, 1),\n",
              " ('M35', 'W34'): (39, 1),\n",
              " ('M36', 'W35'): (39, 1),\n",
              " ('M37', 'W36'): (39, 1),\n",
              " ('M38', 'W37'): (39, 1),\n",
              " ('M39', 'W38'): (39, 1),\n",
              " ('M40', 'W39'): (39, 1),\n",
              " ('M1', 'W40'): (40, 1)}"
            ]
          },
          "metadata": {},
          "execution_count": 46
        }
      ]
    }
  ]
}